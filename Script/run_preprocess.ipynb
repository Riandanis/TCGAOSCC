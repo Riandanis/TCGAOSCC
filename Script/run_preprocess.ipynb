{
 "cells": [
  {
   "cell_type": "code",
   "execution_count": 1,
   "metadata": {},
   "outputs": [
    {
     "name": "stderr",
     "output_type": "stream",
     "text": [
      "/usr/local/lib/python3.5/dist-packages/h5py/__init__.py:36: FutureWarning: Conversion of the second argument of issubdtype from `float` to `np.floating` is deprecated. In future, it will be treated as `np.float64 == np.dtype(float).type`.\n",
      "  from ._conv import register_converters as _register_converters\n",
      "Using TensorFlow backend.\n"
     ]
    }
   ],
   "source": [
    "case_name= \"Non-oral+EsophagealSCC\"\n",
    "case_path = '/home/DL-based-Tumor-Classification/Table_datasets/3cases/Sorted/'\n",
    "preprocessed_path = '/home/DL-based-Tumor-Classification/Datasets/Newest_case/1D_sorted'\n",
    "%run preprocess.ipynb"
   ]
  },
  {
   "cell_type": "code",
   "execution_count": 2,
   "metadata": {},
   "outputs": [
    {
     "name": "stdout",
     "output_type": "stream",
     "text": [
      "feature_raw shape :  (275, 17424)\n",
      "features_filtered shape :  (275, 17424)\n",
      "features_sorted shape :  (275, 17424)\n",
      "final features shape:  (275, 7880)\n",
      "features are selected, the selected gene name are saved at /home/DL-based-Tumor-Classification/Datasets/Newest_case/1D_sorted/Feature_name_Non-oral+EsophagealSCC.csv\n",
      "features have been read\n"
     ]
    }
   ],
   "source": [
    "feature, label, index_list = kfold_split(table, folds, preprocess_file)"
   ]
  },
  {
   "cell_type": "code",
   "execution_count": 3,
   "metadata": {},
   "outputs": [
    {
     "name": "stdout",
     "output_type": "stream",
     "text": [
      "embedding to 1D image, fold: 0\n",
      "embedding to 1D image, fold: 1\n",
      "embedding to 1D image, fold: 2\n",
      "embedding to 1D image, fold: 3\n",
      "embedding to 1D image, fold: 4\n",
      "embedding to 1D image, fold: 5\n",
      "embedding to 1D image, fold: 6\n",
      "embedding to 1D image, fold: 7\n",
      "embedding to 1D image, fold: 8\n",
      "embedding to 1D image, fold: 9\n",
      "done\n"
     ]
    }
   ],
   "source": [
    "i = 0\n",
    "for train_index, test_index in index_list:\n",
    "    features_train = feature[train_index]\n",
    "    features_test = feature[test_index]\n",
    "    labels_train = label[train_index]\n",
    "    labels_test = label[test_index]\n",
    "#     embedding_2d(features_train, features_test, i, preprocessed_file_path, labels_train, labels_test)\n",
    "    embedding_1d(features_train, features_test, i, preprocessed_file_path, labels_train, labels_test)\n",
    "    i = i+1\n",
    "i = 0\n",
    "print(\"done\")"
   ]
  },
  {
   "cell_type": "code",
   "execution_count": null,
   "metadata": {},
   "outputs": [],
   "source": []
  }
 ],
 "metadata": {
  "kernelspec": {
   "display_name": "Python 3",
   "language": "python",
   "name": "python3"
  },
  "language_info": {
   "codemirror_mode": {
    "name": "ipython",
    "version": 3
   },
   "file_extension": ".py",
   "mimetype": "text/x-python",
   "name": "python",
   "nbconvert_exporter": "python",
   "pygments_lexer": "ipython3",
   "version": "3.5.2"
  }
 },
 "nbformat": 4,
 "nbformat_minor": 2
}
