{
 "cells": [
  {
   "cell_type": "code",
   "execution_count": 1,
   "metadata": {},
   "outputs": [],
   "source": [
    "import numpy as np\n",
    "import matplotlib.pyplot as plt\n",
    "import itertools\n",
    "import pandas as pd\n",
    "import os\n",
    "from sklearn import svm, datasets\n",
    "from sklearn.model_selection import train_test_split\n",
    "from sklearn.metrics import confusion_matrix, recall_score, precision_score, f1_score, accuracy_score"
   ]
  },
  {
   "cell_type": "code",
   "execution_count": 2,
   "metadata": {},
   "outputs": [
    {
     "ename": "KeyError",
     "evalue": "'Other'",
     "output_type": "error",
     "traceback": [
      "\u001b[0;31m---------------------------------------------------------------------------\u001b[0m",
      "\u001b[0;31mKeyError\u001b[0m                                  Traceback (most recent call last)",
      "\u001b[0;32m<ipython-input-2-d226788bb283>\u001b[0m in \u001b[0;36m<module>\u001b[0;34m()\u001b[0m\n\u001b[1;32m     58\u001b[0m             \u001b[0;32mreturn\u001b[0m \u001b[0mcnf_matrix\u001b[0m\u001b[0;34m\u001b[0m\u001b[0m\n\u001b[1;32m     59\u001b[0m \u001b[0;34m\u001b[0m\u001b[0m\n\u001b[0;32m---> 60\u001b[0;31m         \u001b[0mcnf_matrix\u001b[0m \u001b[0;34m=\u001b[0m \u001b[0mdraw_confusion_matrix\u001b[0m\u001b[0;34m(\u001b[0m\u001b[0mpredicted_label_all\u001b[0m\u001b[0;34m,\u001b[0m\u001b[0mtrue_label_all\u001b[0m\u001b[0;34m)\u001b[0m\u001b[0;34m\u001b[0m\u001b[0m\n\u001b[0m\u001b[1;32m     61\u001b[0m         \u001b[0mprecision_s\u001b[0m \u001b[0;34m=\u001b[0m \u001b[0mprecision_score\u001b[0m\u001b[0;34m(\u001b[0m\u001b[0mtrue_label_all\u001b[0m\u001b[0;34m,\u001b[0m \u001b[0mpredicted_label_all\u001b[0m\u001b[0;34m,\u001b[0m \u001b[0maverage\u001b[0m\u001b[0;34m=\u001b[0m\u001b[0;34m'weighted'\u001b[0m\u001b[0;34m)\u001b[0m\u001b[0;34m\u001b[0m\u001b[0m\n\u001b[1;32m     62\u001b[0m         \u001b[0mrecall_s\u001b[0m \u001b[0;34m=\u001b[0m \u001b[0mrecall_score\u001b[0m\u001b[0;34m(\u001b[0m\u001b[0mtrue_label_all\u001b[0m\u001b[0;34m,\u001b[0m \u001b[0mpredicted_label_all\u001b[0m\u001b[0;34m,\u001b[0m \u001b[0maverage\u001b[0m\u001b[0;34m=\u001b[0m\u001b[0;34m'weighted'\u001b[0m\u001b[0;34m)\u001b[0m\u001b[0;34m\u001b[0m\u001b[0m\n",
      "\u001b[0;32m<ipython-input-2-d226788bb283>\u001b[0m in \u001b[0;36mdraw_confusion_matrix\u001b[0;34m(predicted_label_all, true_label_all)\u001b[0m\n\u001b[1;32m     26\u001b[0m             \u001b[0mclasses\u001b[0m \u001b[0;34m=\u001b[0m \u001b[0mcase\u001b[0m\u001b[0;34m.\u001b[0m\u001b[0msplit\u001b[0m\u001b[0;34m(\u001b[0m\u001b[0;34m'+'\u001b[0m\u001b[0;34m)\u001b[0m\u001b[0;34m\u001b[0m\u001b[0m\n\u001b[1;32m     27\u001b[0m             \u001b[0;32mfor\u001b[0m \u001b[0mkelas\u001b[0m \u001b[0;32min\u001b[0m \u001b[0mclasses\u001b[0m\u001b[0;34m:\u001b[0m\u001b[0;34m\u001b[0m\u001b[0m\n\u001b[0;32m---> 28\u001b[0;31m                 \u001b[0mlabel_list\u001b[0m\u001b[0;34m.\u001b[0m\u001b[0mappend\u001b[0m\u001b[0;34m(\u001b[0m\u001b[0mkamus\u001b[0m\u001b[0;34m[\u001b[0m\u001b[0mkelas\u001b[0m\u001b[0;34m]\u001b[0m\u001b[0;34m)\u001b[0m\u001b[0;34m\u001b[0m\u001b[0m\n\u001b[0m\u001b[1;32m     29\u001b[0m             \u001b[0mcnf_matrix\u001b[0m \u001b[0;34m=\u001b[0m \u001b[0mconfusion_matrix\u001b[0m\u001b[0;34m(\u001b[0m\u001b[0mtrue_label_all\u001b[0m\u001b[0;34m,\u001b[0m \u001b[0mpredicted_label_all\u001b[0m\u001b[0;34m,\u001b[0m \u001b[0mlabels\u001b[0m \u001b[0;34m=\u001b[0m \u001b[0mlabel_list\u001b[0m\u001b[0;34m)\u001b[0m\u001b[0;34m\u001b[0m\u001b[0m\n\u001b[1;32m     30\u001b[0m             \u001b[0mcnf_matrix\u001b[0m \u001b[0;34m=\u001b[0m \u001b[0mcnf_matrix\u001b[0m\u001b[0;34m/\u001b[0m\u001b[0mcnf_matrix\u001b[0m\u001b[0;34m.\u001b[0m\u001b[0msum\u001b[0m\u001b[0;34m(\u001b[0m\u001b[0maxis\u001b[0m\u001b[0;34m=\u001b[0m\u001b[0;36m1\u001b[0m\u001b[0;34m)\u001b[0m\u001b[0;34m[\u001b[0m\u001b[0;34m:\u001b[0m\u001b[0;34m,\u001b[0m \u001b[0mnp\u001b[0m\u001b[0;34m.\u001b[0m\u001b[0mnewaxis\u001b[0m\u001b[0;34m]\u001b[0m\u001b[0;34m\u001b[0m\u001b[0m\n",
      "\u001b[0;31mKeyError\u001b[0m: 'Other'"
     ]
    }
   ],
   "source": [
    "feature_path = '/home/DL-based-Tumor-Classification/Datasets/Newest_case/2D_reform/'\n",
    "kamus = {'OSCC':1,'Non-oral':2,'Cervical':3,'EsophagealSCC':4,'EsophagealAdenocarcinoma':5,'EsophagealCancer':6}\n",
    "cases = os.listdir(feature_path)\n",
    "for case in cases:\n",
    "    label_list=[]\n",
    "    path = os.path.join(feature_path,case)\n",
    "    if os.path.isdir(path) and not case.endswith(\".ipynb_checkpoints\") and not case.startswith(\"1\"):\n",
    "        predicted_label = []\n",
    "        true_label = []\n",
    "        output_path = feature_path + case\n",
    "        \n",
    "        for i in range(0,10):\n",
    "            predicted_label_path = output_path+ '/img_fold' + str(i) + '/test/predicted_label_run_th1_test_multi_relu.csv'\n",
    "            true_label_path = output_path+ '/img_fold' + str(i) + '/test/test_label_run_th1_test_multi_relu.csv'\n",
    "            predicted_label_tmp = np.array(pd.read_csv(predicted_label_path, header=None)) + 1.0\n",
    "            true_label_tmp = np.array(pd.read_csv(true_label_path, header=None)) + 1.0\n",
    "            predicted_label.append(predicted_label_tmp)\n",
    "            true_label.append(true_label_tmp)\n",
    "        \n",
    "        true_label_all = np.concatenate(true_label, axis=0)\n",
    "        predicted_label_all = np.concatenate(predicted_label, axis=0)\n",
    "        \n",
    "        def draw_confusion_matrix(predicted_label_all,true_label_all):\n",
    "            # predicted_label = np.array(pd.read_csv(predicted_label_path, header=None)).astype(np.int)\n",
    "            # true_label = np.array(pd.read_csv(true_label_path, header=None)).astype(np.int)\n",
    "            classes = case.split('+')\n",
    "            for kelas in classes:\n",
    "                label_list.append(kamus[kelas])\n",
    "            cnf_matrix = confusion_matrix(true_label_all, predicted_label_all, labels = label_list)\n",
    "            cnf_matrix = cnf_matrix/cnf_matrix.sum(axis=1)[:, np.newaxis]\n",
    "            for i,kelas in enumerate(classes):\n",
    "                if (kelas == 'EsophagealAdenocarcinoma'):\n",
    "                    classes[i] = 'Esophageal\\nAdenocarcinoma'\n",
    "                if (kelas == 'EsophagealCancer'):\n",
    "                    classes[i] = 'Esophageal\\nCancer'\n",
    "                if (kelas == 'Non-oral'):\n",
    "                    classes[i] = 'Non-oral SCC'\n",
    "                if (kelas == 'Cervical'):\n",
    "                    classes[i] = 'Cervical SCC'\n",
    "                if (kelas == 'EsophagealSCC'):\n",
    "                    classes[i] = 'Esophageal SCC'\n",
    "            plt.figure(dpi = 150)\n",
    "            plt.imshow(cnf_matrix, interpolation='nearest', cmap=plt.cm.Reds)\n",
    "            plt.title('Classification Confusion Matrix')\n",
    "            plt.colorbar()\n",
    "            tick_marks = np.arange(len(classes))\n",
    "            for i in range(len(classes)):\n",
    "                for j in range(len(classes)):\n",
    "                    number = round(cnf_matrix[i,j],2)\n",
    "                    text = plt.text(j, i, number, ha=\"center\", va=\"center\", color=\"black\")\n",
    "            plt.xticks(tick_marks, classes, rotation=90)\n",
    "            plt.yticks(tick_marks, classes)\n",
    "            plt.tight_layout()\n",
    "            plt.ylabel('True label')\n",
    "            plt.xlabel('Predicted label')\n",
    "#             plt.savefig(output_path + \"/\" + case + \".png\", format='png', dpi = 400)\n",
    "            plt.show()\n",
    "            return cnf_matrix\n",
    "        \n",
    "        cnf_matrix = draw_confusion_matrix(predicted_label_all,true_label_all)\n",
    "        precision_s = precision_score(true_label_all, predicted_label_all, average='weighted')\n",
    "        recall_s = recall_score(true_label_all, predicted_label_all, average='weighted')\n",
    "        f1 = f1_score(true_label_all, predicted_label_all, average='weighted')\n",
    "        accuracy = accuracy_score(true_label_all, predicted_label_all)\n",
    "        accuracy_each_class = cnf_matrix.diagonal()\n",
    "        \n",
    "        print(accuracy, \"///\", precision_s, \"///\", recall_s, \"///\", f1)\n",
    "        text_file = open(output_path+\"/Test_Performance.txt\",\"w\")\n",
    "        text_file.write(\"Accuracy: {} \\nPrecision: {}\\nRecall: {} \\nF1 Score: {} \\n{}\\t {}\\t {}\\t {}\".format(accuracy,precision_s,recall_s,f1,accuracy,precision_s,recall_s,f1))\n",
    "        text_file.close()"
   ]
  },
  {
   "cell_type": "code",
   "execution_count": 33,
   "metadata": {},
   "outputs": [
    {
     "name": "stdout",
     "output_type": "stream",
     "text": [
      "0.8981481481481481 /// 0.9180658436213991 /// 0.8981481481481481 /// 0.8987747669798566\n"
     ]
    }
   ],
   "source": [
    "print(accuracy, \"///\", precision_s, \"///\", recall_s, \"///\", f1)\n",
    "text_file = open(output_path+\"/Test_Performance.txt\",\"w\")\n",
    "text_file.write(\"Accuracy: {} \\nPrecision: {}\\nRecall: {} \\nF1 Score: {}\".format(accuracy,precision_s,recall_s,f1))\n",
    "text_file.close()"
   ]
  },
  {
   "cell_type": "code",
   "execution_count": 10,
   "metadata": {},
   "outputs": [
    {
     "name": "stdout",
     "output_type": "stream",
     "text": [
      "0.8125 /// 0.8100246590976636 /// 0.8125 /// 0.8110554308559016\n"
     ]
    }
   ],
   "source": [
    "print(accuracy, \"///\", precision_s, \"///\", recall_s, \"///\", f1)"
   ]
  },
  {
   "cell_type": "code",
   "execution_count": 13,
   "metadata": {},
   "outputs": [
    {
     "name": "stdout",
     "output_type": "stream",
     "text": [
      "0.993514915693904 /// 0.9935350740094111 /// 0.993514915693904 /// 0.9935053827212266\n"
     ]
    }
   ],
   "source": [
    "print(accuracy, \"///\", precision_s, \"///\", recall_s, \"///\", f1)"
   ]
  },
  {
   "cell_type": "code",
   "execution_count": 17,
   "metadata": {},
   "outputs": [
    {
     "name": "stdout",
     "output_type": "stream",
     "text": [
      "0.9838945827232797 /// 0.9839173923094706 /// 0.9838945827232797 /// 0.9839007986490476\n"
     ]
    }
   ],
   "source": [
    "print(accuracy, \"///\", precision_s, \"///\", recall_s, \"///\", f1)"
   ]
  },
  {
   "cell_type": "code",
   "execution_count": 4,
   "metadata": {},
   "outputs": [
    {
     "data": {
      "image/png": "[encoded data removed]",
      "text/plain": [
       "<Figure size 432x288 with 2 Axes>"
      ]
     },
     "metadata": {},
     "output_type": "display_data"
    }
   ],
   "source": [
    "predicted_label = []\n",
    "true_label = []\n",
    "output_path = '/home/DL-based-Tumor-Classification/Datasets/trial_3rd_8960_true_feature/'\n",
    "for i in range(0,8):\n",
    "    predicted_label_path = output_path+ '/img_fold' + str(i) + '/test/predicted_label_run_th1_test.csv'\n",
    "    true_label_path = output_path+ '/img_fold' + str(i) + '/test/test_label_run_th1_test.csv'\n",
    "    predicted_label_tmp = np.array(pd.read_csv(predicted_label_path, header=None)) + 1.0\n",
    "    true_label_tmp = np.array(pd.read_csv(true_label_path, header=None)) + 1.0\n",
    "    predicted_label.append(predicted_label_tmp)\n",
    "    true_label.append(true_label_tmp)\n",
    "\n",
    "true_label_all = np.concatenate(true_label, axis=0)\n",
    "predicted_label_all = np.concatenate(predicted_label, axis=0)\n",
    "\n",
    "\n",
    "def draw_confusion_matrix(predicted_label_all,true_label_all):\n",
    "    # predicted_label = np.array(pd.read_csv(predicted_label_path, header=None)).astype(np.int)\n",
    "    # true_label = np.array(pd.read_csv(true_label_path, header=None)).astype(np.int)\n",
    "    cnf_matrix = confusion_matrix(true_label_all, predicted_label_all)\n",
    "    cnf_matrix = cnf_matrix/cnf_matrix.sum(axis=1)[:, np.newaxis]\n",
    "    classes = ['Arthritis', 'Normal']\n",
    "    plt.figure()\n",
    "    plt.imshow(cnf_matrix, interpolation='nearest', cmap=plt.cm.Reds)\n",
    "    plt.title('confusion matrix of 2 tumor types')\n",
    "    plt.colorbar()\n",
    "    tick_marks = np.arange(len(classes))\n",
    "    plt.xticks(tick_marks, classes, rotation=90)\n",
    "    plt.yticks(tick_marks, classes)\n",
    "    plt.tight_layout()\n",
    "    plt.ylabel('True label')\n",
    "    plt.xlabel('Predicted label')\n",
    "    plt.show()\n",
    "    return cnf_matrix\n",
    "\n",
    "\n",
    "cnf_matrix = draw_confusion_matrix(predicted_label_all,true_label_all)\n",
    "precision_s = precision_score(true_label_all, predicted_label_all, average='weighted')\n",
    "recall_s = recall_score(true_label_all, predicted_label_all, average='weighted')\n",
    "f1 = f1_score(true_label_all, predicted_label_all, average='weighted')\n",
    "accuracy = accuracy_score(true_label_all, predicted_label_all)\n",
    "accuracy_each_class = cnf_matrix.diagonal()"
   ]
  },
  {
   "cell_type": "code",
   "execution_count": 5,
   "metadata": {},
   "outputs": [
    {
     "name": "stdout",
     "output_type": "stream",
     "text": [
      "0.5999692077192113 /// 0.6036585365853658 /// 0.6039771784545305 /// 0.6036585365853658\n"
     ]
    }
   ],
   "source": [
    "print(f1, \"///\", accuracy, \"///\", precision_s, \"///\", recall_s)"
   ]
  },
  {
   "cell_type": "code",
   "execution_count": 6,
   "metadata": {},
   "outputs": [
    {
     "ename": "FileNotFoundError",
     "evalue": "File b'/home/DL-based-Tumor-Classification/3rd_8966_feature_noanno_threshold1/img_fold0/test/predicted_label_run_th1.csv' does not exist",
     "output_type": "error",
     "traceback": [
      "\u001b[0;31m---------------------------------------------------------------------------\u001b[0m",
      "\u001b[0;31mFileNotFoundError\u001b[0m                         Traceback (most recent call last)",
      "\u001b[0;32m<ipython-input-6-08b5266ccdfc>\u001b[0m in \u001b[0;36m<module>\u001b[0;34m()\u001b[0m\n\u001b[1;32m      5\u001b[0m     \u001b[0mpredicted_label_path\u001b[0m \u001b[0;34m=\u001b[0m \u001b[0;34m'/home/DL-based-Tumor-Classification/3rd_8966_feature_noanno_threshold1/img_fold'\u001b[0m \u001b[0;34m+\u001b[0m \u001b[0mstr\u001b[0m\u001b[0;34m(\u001b[0m\u001b[0mi\u001b[0m\u001b[0;34m)\u001b[0m \u001b[0;34m+\u001b[0m \u001b[0;34m'/test/predicted_label_run_th1.csv'\u001b[0m\u001b[0;34m\u001b[0m\u001b[0m\n\u001b[1;32m      6\u001b[0m     \u001b[0mtrue_label_path\u001b[0m \u001b[0;34m=\u001b[0m \u001b[0;34m'/home/DL-based-Tumor-Classification/3rd_8966_feature_noanno_threshold1/img_fold'\u001b[0m \u001b[0;34m+\u001b[0m \u001b[0mstr\u001b[0m\u001b[0;34m(\u001b[0m\u001b[0mi\u001b[0m\u001b[0;34m)\u001b[0m \u001b[0;34m+\u001b[0m \u001b[0;34m'/test/test_label_run_th1.csv'\u001b[0m\u001b[0;34m\u001b[0m\u001b[0m\n\u001b[0;32m----> 7\u001b[0;31m     \u001b[0mpredicted_label_tmp\u001b[0m \u001b[0;34m=\u001b[0m \u001b[0mnp\u001b[0m\u001b[0;34m.\u001b[0m\u001b[0marray\u001b[0m\u001b[0;34m(\u001b[0m\u001b[0mpd\u001b[0m\u001b[0;34m.\u001b[0m\u001b[0mread_csv\u001b[0m\u001b[0;34m(\u001b[0m\u001b[0mpredicted_label_path\u001b[0m\u001b[0;34m,\u001b[0m \u001b[0mheader\u001b[0m\u001b[0;34m=\u001b[0m\u001b[0;32mNone\u001b[0m\u001b[0;34m)\u001b[0m\u001b[0;34m)\u001b[0m \u001b[0;34m+\u001b[0m \u001b[0;36m1.0\u001b[0m\u001b[0;34m\u001b[0m\u001b[0m\n\u001b[0m\u001b[1;32m      8\u001b[0m     \u001b[0mtrue_label_tmp\u001b[0m \u001b[0;34m=\u001b[0m \u001b[0mnp\u001b[0m\u001b[0;34m.\u001b[0m\u001b[0marray\u001b[0m\u001b[0;34m(\u001b[0m\u001b[0mpd\u001b[0m\u001b[0;34m.\u001b[0m\u001b[0mread_csv\u001b[0m\u001b[0;34m(\u001b[0m\u001b[0mtrue_label_path\u001b[0m\u001b[0;34m,\u001b[0m \u001b[0mheader\u001b[0m\u001b[0;34m=\u001b[0m\u001b[0;32mNone\u001b[0m\u001b[0;34m)\u001b[0m\u001b[0;34m)\u001b[0m \u001b[0;34m+\u001b[0m \u001b[0;36m1.0\u001b[0m\u001b[0;34m\u001b[0m\u001b[0m\n\u001b[1;32m      9\u001b[0m     \u001b[0mpredicted_label\u001b[0m\u001b[0;34m.\u001b[0m\u001b[0mappend\u001b[0m\u001b[0;34m(\u001b[0m\u001b[0mpredicted_label_tmp\u001b[0m\u001b[0;34m)\u001b[0m\u001b[0;34m\u001b[0m\u001b[0m\n",
      "\u001b[0;32m/usr/local/lib/python3.5/dist-packages/pandas/io/parsers.py\u001b[0m in \u001b[0;36mparser_f\u001b[0;34m(filepath_or_buffer, sep, delimiter, header, names, index_col, usecols, squeeze, prefix, mangle_dupe_cols, dtype, engine, converters, true_values, false_values, skipinitialspace, skiprows, nrows, na_values, keep_default_na, na_filter, verbose, skip_blank_lines, parse_dates, infer_datetime_format, keep_date_col, date_parser, dayfirst, iterator, chunksize, compression, thousands, decimal, lineterminator, quotechar, quoting, escapechar, comment, encoding, dialect, tupleize_cols, error_bad_lines, warn_bad_lines, skipfooter, skip_footer, doublequote, delim_whitespace, as_recarray, compact_ints, use_unsigned, low_memory, buffer_lines, memory_map, float_precision)\u001b[0m\n\u001b[1;32m    707\u001b[0m                     skip_blank_lines=skip_blank_lines)\n\u001b[1;32m    708\u001b[0m \u001b[0;34m\u001b[0m\u001b[0m\n\u001b[0;32m--> 709\u001b[0;31m         \u001b[0;32mreturn\u001b[0m \u001b[0m_read\u001b[0m\u001b[0;34m(\u001b[0m\u001b[0mfilepath_or_buffer\u001b[0m\u001b[0;34m,\u001b[0m \u001b[0mkwds\u001b[0m\u001b[0;34m)\u001b[0m\u001b[0;34m\u001b[0m\u001b[0m\n\u001b[0m\u001b[1;32m    710\u001b[0m \u001b[0;34m\u001b[0m\u001b[0m\n\u001b[1;32m    711\u001b[0m     \u001b[0mparser_f\u001b[0m\u001b[0;34m.\u001b[0m\u001b[0m__name__\u001b[0m \u001b[0;34m=\u001b[0m \u001b[0mname\u001b[0m\u001b[0;34m\u001b[0m\u001b[0m\n",
      "\u001b[0;32m/usr/local/lib/python3.5/dist-packages/pandas/io/parsers.py\u001b[0m in \u001b[0;36m_read\u001b[0;34m(filepath_or_buffer, kwds)\u001b[0m\n\u001b[1;32m    447\u001b[0m \u001b[0;34m\u001b[0m\u001b[0m\n\u001b[1;32m    448\u001b[0m     \u001b[0;31m# Create the parser.\u001b[0m\u001b[0;34m\u001b[0m\u001b[0;34m\u001b[0m\u001b[0m\n\u001b[0;32m--> 449\u001b[0;31m     \u001b[0mparser\u001b[0m \u001b[0;34m=\u001b[0m \u001b[0mTextFileReader\u001b[0m\u001b[0;34m(\u001b[0m\u001b[0mfilepath_or_buffer\u001b[0m\u001b[0;34m,\u001b[0m \u001b[0;34m**\u001b[0m\u001b[0mkwds\u001b[0m\u001b[0;34m)\u001b[0m\u001b[0;34m\u001b[0m\u001b[0m\n\u001b[0m\u001b[1;32m    450\u001b[0m \u001b[0;34m\u001b[0m\u001b[0m\n\u001b[1;32m    451\u001b[0m     \u001b[0;32mif\u001b[0m \u001b[0mchunksize\u001b[0m \u001b[0;32mor\u001b[0m \u001b[0miterator\u001b[0m\u001b[0;34m:\u001b[0m\u001b[0;34m\u001b[0m\u001b[0m\n",
      "\u001b[0;32m/usr/local/lib/python3.5/dist-packages/pandas/io/parsers.py\u001b[0m in \u001b[0;36m__init__\u001b[0;34m(self, f, engine, **kwds)\u001b[0m\n\u001b[1;32m    816\u001b[0m             \u001b[0mself\u001b[0m\u001b[0;34m.\u001b[0m\u001b[0moptions\u001b[0m\u001b[0;34m[\u001b[0m\u001b[0;34m'has_index_names'\u001b[0m\u001b[0;34m]\u001b[0m \u001b[0;34m=\u001b[0m \u001b[0mkwds\u001b[0m\u001b[0;34m[\u001b[0m\u001b[0;34m'has_index_names'\u001b[0m\u001b[0;34m]\u001b[0m\u001b[0;34m\u001b[0m\u001b[0m\n\u001b[1;32m    817\u001b[0m \u001b[0;34m\u001b[0m\u001b[0m\n\u001b[0;32m--> 818\u001b[0;31m         \u001b[0mself\u001b[0m\u001b[0;34m.\u001b[0m\u001b[0m_make_engine\u001b[0m\u001b[0;34m(\u001b[0m\u001b[0mself\u001b[0m\u001b[0;34m.\u001b[0m\u001b[0mengine\u001b[0m\u001b[0;34m)\u001b[0m\u001b[0;34m\u001b[0m\u001b[0m\n\u001b[0m\u001b[1;32m    819\u001b[0m \u001b[0;34m\u001b[0m\u001b[0m\n\u001b[1;32m    820\u001b[0m     \u001b[0;32mdef\u001b[0m \u001b[0mclose\u001b[0m\u001b[0;34m(\u001b[0m\u001b[0mself\u001b[0m\u001b[0;34m)\u001b[0m\u001b[0;34m:\u001b[0m\u001b[0;34m\u001b[0m\u001b[0m\n",
      "\u001b[0;32m/usr/local/lib/python3.5/dist-packages/pandas/io/parsers.py\u001b[0m in \u001b[0;36m_make_engine\u001b[0;34m(self, engine)\u001b[0m\n\u001b[1;32m   1047\u001b[0m     \u001b[0;32mdef\u001b[0m \u001b[0m_make_engine\u001b[0m\u001b[0;34m(\u001b[0m\u001b[0mself\u001b[0m\u001b[0;34m,\u001b[0m \u001b[0mengine\u001b[0m\u001b[0;34m=\u001b[0m\u001b[0;34m'c'\u001b[0m\u001b[0;34m)\u001b[0m\u001b[0;34m:\u001b[0m\u001b[0;34m\u001b[0m\u001b[0m\n\u001b[1;32m   1048\u001b[0m         \u001b[0;32mif\u001b[0m \u001b[0mengine\u001b[0m \u001b[0;34m==\u001b[0m \u001b[0;34m'c'\u001b[0m\u001b[0;34m:\u001b[0m\u001b[0;34m\u001b[0m\u001b[0m\n\u001b[0;32m-> 1049\u001b[0;31m             \u001b[0mself\u001b[0m\u001b[0;34m.\u001b[0m\u001b[0m_engine\u001b[0m \u001b[0;34m=\u001b[0m \u001b[0mCParserWrapper\u001b[0m\u001b[0;34m(\u001b[0m\u001b[0mself\u001b[0m\u001b[0;34m.\u001b[0m\u001b[0mf\u001b[0m\u001b[0;34m,\u001b[0m \u001b[0;34m**\u001b[0m\u001b[0mself\u001b[0m\u001b[0;34m.\u001b[0m\u001b[0moptions\u001b[0m\u001b[0;34m)\u001b[0m\u001b[0;34m\u001b[0m\u001b[0m\n\u001b[0m\u001b[1;32m   1050\u001b[0m         \u001b[0;32melse\u001b[0m\u001b[0;34m:\u001b[0m\u001b[0;34m\u001b[0m\u001b[0m\n\u001b[1;32m   1051\u001b[0m             \u001b[0;32mif\u001b[0m \u001b[0mengine\u001b[0m \u001b[0;34m==\u001b[0m \u001b[0;34m'python'\u001b[0m\u001b[0;34m:\u001b[0m\u001b[0;34m\u001b[0m\u001b[0m\n",
      "\u001b[0;32m/usr/local/lib/python3.5/dist-packages/pandas/io/parsers.py\u001b[0m in \u001b[0;36m__init__\u001b[0;34m(self, src, **kwds)\u001b[0m\n\u001b[1;32m   1693\u001b[0m         \u001b[0mkwds\u001b[0m\u001b[0;34m[\u001b[0m\u001b[0;34m'allow_leading_cols'\u001b[0m\u001b[0;34m]\u001b[0m \u001b[0;34m=\u001b[0m \u001b[0mself\u001b[0m\u001b[0;34m.\u001b[0m\u001b[0mindex_col\u001b[0m \u001b[0;32mis\u001b[0m \u001b[0;32mnot\u001b[0m \u001b[0;32mFalse\u001b[0m\u001b[0;34m\u001b[0m\u001b[0m\n\u001b[1;32m   1694\u001b[0m \u001b[0;34m\u001b[0m\u001b[0m\n\u001b[0;32m-> 1695\u001b[0;31m         \u001b[0mself\u001b[0m\u001b[0;34m.\u001b[0m\u001b[0m_reader\u001b[0m \u001b[0;34m=\u001b[0m \u001b[0mparsers\u001b[0m\u001b[0;34m.\u001b[0m\u001b[0mTextReader\u001b[0m\u001b[0;34m(\u001b[0m\u001b[0msrc\u001b[0m\u001b[0;34m,\u001b[0m \u001b[0;34m**\u001b[0m\u001b[0mkwds\u001b[0m\u001b[0;34m)\u001b[0m\u001b[0;34m\u001b[0m\u001b[0m\n\u001b[0m\u001b[1;32m   1696\u001b[0m \u001b[0;34m\u001b[0m\u001b[0m\n\u001b[1;32m   1697\u001b[0m         \u001b[0;31m# XXX\u001b[0m\u001b[0;34m\u001b[0m\u001b[0;34m\u001b[0m\u001b[0m\n",
      "\u001b[0;32mpandas/_libs/parsers.pyx\u001b[0m in \u001b[0;36mpandas._libs.parsers.TextReader.__cinit__\u001b[0;34m()\u001b[0m\n",
      "\u001b[0;32mpandas/_libs/parsers.pyx\u001b[0m in \u001b[0;36mpandas._libs.parsers.TextReader._setup_parser_source\u001b[0;34m()\u001b[0m\n",
      "\u001b[0;31mFileNotFoundError\u001b[0m: File b'/home/DL-based-Tumor-Classification/3rd_8966_feature_noanno_threshold1/img_fold0/test/predicted_label_run_th1.csv' does not exist"
     ]
    }
   ],
   "source": [
    "predicted_label = []\n",
    "true_label = []\n",
    "output_path = '/home/DL-based-Tumor-Classification/trial_2nd_8843_true_feature/'\n",
    "for i in range(0,9):\n",
    "    predicted_label_path = '/home/DL-based-Tumor-Classification/3rd_8966_feature_noanno_threshold1/img_fold' + str(i) + '/test/predicted_label_run_th1.csv'\n",
    "    true_label_path = '/home/DL-based-Tumor-Classification/3rd_8966_feature_noanno_threshold1/img_fold' + str(i) + '/test/test_label_run_th1.csv'\n",
    "    predicted_label_tmp = np.array(pd.read_csv(predicted_label_path, header=None)) + 1.0\n",
    "    true_label_tmp = np.array(pd.read_csv(true_label_path, header=None)) + 1.0\n",
    "    predicted_label.append(predicted_label_tmp)\n",
    "    true_label.append(true_label_tmp)\n",
    "\n",
    "true_label_all = np.concatenate(true_label, axis=0)\n",
    "predicted_label_all = np.concatenate(predicted_label, axis=0)\n",
    "\n",
    "\n",
    "def draw_confusion_matrix(predicted_label_all,true_label_all):\n",
    "    # predicted_label = np.array(pd.read_csv(predicted_label_path, header=None)).astype(np.int)\n",
    "    # true_label = np.array(pd.read_csv(true_label_path, header=None)).astype(np.int)\n",
    "    cnf_matrix = confusion_matrix(true_label_all, predicted_label_all)\n",
    "    cnf_matrix = cnf_matrix/cnf_matrix.sum(axis=1)[:, np.newaxis]\n",
    "    classes = ['Adenocarcinoma', 'Carcinoma']\n",
    "    plt.figure()\n",
    "    plt.imshow(cnf_matrix, interpolation='nearest', cmap=plt.cm.Reds)\n",
    "    plt.title('confusion matrix of 2 tumor types')\n",
    "    plt.colorbar()\n",
    "    tick_marks = np.arange(len(classes))\n",
    "    plt.xticks(tick_marks, classes, rotation=90)\n",
    "    plt.yticks(tick_marks, classes)\n",
    "    plt.tight_layout()\n",
    "    plt.ylabel('True label')\n",
    "    plt.xlabel('Predicted label')\n",
    "    plt.show()\n",
    "    return cnf_matrix\n",
    "\n",
    "\n",
    "cnf_matrix = draw_confusion_matrix(predicted_label_all,true_label_all)\n",
    "precision_s = precision_score(true_label_all, predicted_label_all, average='weighted')\n",
    "recall_s = recall_score(true_label_all, predicted_label_all, average='weighted')\n",
    "f1 = f1_score(true_label_all, predicted_label_all, average='weighted')\n",
    "accuracy = accuracy_score(true_label_all, predicted_label_all)\n",
    "accuracy_each_class = cnf_matrix.diagonal()"
   ]
  },
  {
   "cell_type": "code",
   "execution_count": 11,
   "metadata": {},
   "outputs": [
    {
     "name": "stdout",
     "output_type": "stream",
     "text": [
      "0.616381282099266 /// 0.6195652173913043 /// 0.6204773301422684 /// 0.6195652173913043\n"
     ]
    }
   ],
   "source": [
    "print(f1, \"///\", accuracy, \"///\", precision_s, \"///\", recall_s)"
   ]
  },
  {
   "cell_type": "code",
   "execution_count": null,
   "metadata": {},
   "outputs": [],
   "source": []
  }
 ],
 "metadata": {
  "kernelspec": {
   "display_name": "Python 3",
   "language": "python",
   "name": "python3"
  },
  "language_info": {
   "codemirror_mode": {
    "name": "ipython",
    "version": 3
   },
   "file_extension": ".py",
   "mimetype": "text/x-python",
   "name": "python",
   "nbconvert_exporter": "python",
   "pygments_lexer": "ipython3",
   "version": "3.5.2"
  }
 },
 "nbformat": 4,
 "nbformat_minor": 2
}
