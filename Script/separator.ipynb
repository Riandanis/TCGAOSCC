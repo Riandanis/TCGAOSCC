{
 "cells": [
  {
   "cell_type": "code",
   "execution_count": 4,
   "metadata": {},
   "outputs": [],
   "source": [
    "import csv\n",
    "import pandas as pd\n",
    "import os\n",
    "from tqdm import tqdm"
   ]
  },
  {
   "cell_type": "markdown",
   "metadata": {},
   "source": [
    "Add Name To Index Column"
   ]
  },
  {
   "cell_type": "code",
   "execution_count": 3,
   "metadata": {},
   "outputs": [
    {
     "name": "stderr",
     "output_type": "stream",
     "text": [
      "  0%|          | 0/18 [00:00<?, ?it/s]"
     ]
    },
    {
     "name": "stdout",
     "output_type": "stream",
     "text": [
      "FOLD 0\n"
     ]
    },
    {
     "name": "stderr",
     "output_type": "stream",
     "text": [
      "\n"
     ]
    },
    {
     "ename": "TypeError",
     "evalue": "list indices must be integers or slices, not str",
     "output_type": "error",
     "traceback": [
      "\u001b[0;31m---------------------------------------------------------------------------\u001b[0m",
      "\u001b[0;31mTypeError\u001b[0m                                 Traceback (most recent call last)",
      "\u001b[0;32m<ipython-input-3-5d619e9fcfe0>\u001b[0m in \u001b[0;36m<module>\u001b[0;34m()\u001b[0m\n\u001b[1;32m     15\u001b[0m     \u001b[0mmost_occ_index\u001b[0m \u001b[0;34m=\u001b[0m \u001b[0mlist\u001b[0m\u001b[0;34m(\u001b[0m\u001b[0mmost_occ\u001b[0m\u001b[0;34m.\u001b[0m\u001b[0mvalues\u001b[0m\u001b[0;34m)\u001b[0m\u001b[0;34m\u001b[0m\u001b[0m\n\u001b[1;32m     16\u001b[0m     \u001b[0;32mfor\u001b[0m \u001b[0mindex\u001b[0m \u001b[0;32min\u001b[0m \u001b[0mmost_occ\u001b[0m\u001b[0;34m.\u001b[0m\u001b[0mvalues\u001b[0m\u001b[0;34m:\u001b[0m\u001b[0;34m\u001b[0m\u001b[0m\n\u001b[0;32m---> 17\u001b[0;31m         \u001b[0mlist_o_names\u001b[0m\u001b[0;34m.\u001b[0m\u001b[0mappend\u001b[0m\u001b[0;34m(\u001b[0m\u001b[0mall_names\u001b[0m\u001b[0;34m[\u001b[0m\u001b[0mindex\u001b[0m\u001b[0;34m[\u001b[0m\u001b[0;36m0\u001b[0m\u001b[0;34m]\u001b[0m\u001b[0;34m]\u001b[0m\u001b[0;34m)\u001b[0m\u001b[0;34m\u001b[0m\u001b[0m\n\u001b[0m\u001b[1;32m     18\u001b[0m     \u001b[0;32mwith\u001b[0m \u001b[0mopen\u001b[0m\u001b[0;34m(\u001b[0m\u001b[0mfeature_path\u001b[0m \u001b[0;34m+\u001b[0m \u001b[0;34m'/Names_'\u001b[0m\u001b[0;34m+\u001b[0m\u001b[0mfile\u001b[0m\u001b[0;34m+\u001b[0m\u001b[0;34m'.csv'\u001b[0m\u001b[0;34m,\u001b[0m \u001b[0;34m'w'\u001b[0m\u001b[0;34m,\u001b[0m \u001b[0mnewline\u001b[0m\u001b[0;34m=\u001b[0m\u001b[0;34m''\u001b[0m\u001b[0;34m)\u001b[0m \u001b[0;32mas\u001b[0m \u001b[0mmyfile\u001b[0m\u001b[0;34m:\u001b[0m\u001b[0;34m\u001b[0m\u001b[0m\n\u001b[1;32m     19\u001b[0m         \u001b[0mmyfile\u001b[0m\u001b[0;34m.\u001b[0m\u001b[0mwrite\u001b[0m\u001b[0;34m(\u001b[0m\u001b[0;34m'geneName|geneID'\u001b[0m\u001b[0;34m)\u001b[0m\u001b[0;34m\u001b[0m\u001b[0m\n",
      "\u001b[0;31mTypeError\u001b[0m: list indices must be integers or slices, not str"
     ]
    }
   ],
   "source": [
    "fold = 0\n",
    "feature_path = \"/home/DL-based-Tumor-Classification/Datasets/Newest_case/1D_sorted/1Compare_reformed/sampled_fold_{}/multiwise/\".format(fold)\n",
    "files = os.listdir(feature_path)\n",
    "print('FOLD {}'.format(fold))\n",
    "for file in tqdm(files):\n",
    "#     print('working on {}'.format(file))\n",
    "    path = os.path.join(feature_path,file)\n",
    "    if file.endswith(\".ipynb_checkpoints\") or os.path.isdir(path):\n",
    "        continue\n",
    "    list_o_names = []\n",
    "    most_occ = pd.read_csv(feature_path+'/'+file)\n",
    "    # most_occ = most_occ[::-1]\n",
    "    names = pd.read_csv('/home/DL-based-Tumor-Classification/Datasets/Name_output/name_only.csv')\n",
    "    all_names = list(names.columns)\n",
    "    most_occ_index = list(most_occ.values)\n",
    "    for index in most_occ.values:\n",
    "        list_o_names.append(all_names[index[0]])\n",
    "    with open(feature_path + '/Names_'+file+'.csv', 'w', newline='') as myfile:\n",
    "        myfile.write('geneName|geneID')\n",
    "        myfile.write('\\n')\n",
    "        for name in list_o_names:\n",
    "            myfile.write(name)\n",
    "            myfile.write(\"\\n\")"
   ]
  },
  {
   "cell_type": "code",
   "execution_count": 6,
   "metadata": {},
   "outputs": [
    {
     "name": "stderr",
     "output_type": "stream",
     "text": [
      "  0%|          | 0/9 [00:00<?, ?it/s]"
     ]
    },
    {
     "name": "stdout",
     "output_type": "stream",
     "text": [
      "FOLD 6\n"
     ]
    },
    {
     "name": "stderr",
     "output_type": "stream",
     "text": [
      "100%|██████████| 9/9 [00:42<00:00,  5.75s/it]\n",
      "  0%|          | 0/8 [00:00<?, ?it/s]"
     ]
    },
    {
     "name": "stdout",
     "output_type": "stream",
     "text": [
      "FOLD 7\n"
     ]
    },
    {
     "name": "stderr",
     "output_type": "stream",
     "text": [
      "100%|██████████| 8/8 [00:42<00:00,  6.33s/it]\n",
      "  0%|          | 0/8 [00:00<?, ?it/s]"
     ]
    },
    {
     "name": "stdout",
     "output_type": "stream",
     "text": [
      "FOLD 8\n"
     ]
    },
    {
     "name": "stderr",
     "output_type": "stream",
     "text": [
      "100%|██████████| 8/8 [00:41<00:00,  6.30s/it]\n",
      "  0%|          | 0/8 [00:00<?, ?it/s]"
     ]
    },
    {
     "name": "stdout",
     "output_type": "stream",
     "text": [
      "FOLD 9\n"
     ]
    },
    {
     "name": "stderr",
     "output_type": "stream",
     "text": [
      "100%|██████████| 8/8 [00:42<00:00,  6.35s/it]\n"
     ]
    }
   ],
   "source": [
    "for fold in range(6,10):\n",
    "#     fold = \n",
    "    feature_path = \"/home/DL-based-Tumor-Classification/Datasets/Newest_case/1D/1Compare_reformed/sampled_fold_{}/pairwise\".format(fold)\n",
    "    files = os.listdir(feature_path)\n",
    "    print('FOLD {}'.format(fold))\n",
    "    for file in tqdm(files):\n",
    "    #     print('working on {}'.format(file))\n",
    "        path = os.path.join(feature_path,file)\n",
    "        if file.endswith(\".ipynb_checkpoints\") or os.path.isdir(path):\n",
    "            continue\n",
    "        list_o_names = []\n",
    "        most_occ = pd.read_csv(feature_path+'/'+file)\n",
    "        # most_occ = most_occ[::-1]\n",
    "        names = pd.read_csv('/home/DL-based-Tumor-Classification/Datasets/Name_output/name_only.csv')\n",
    "        all_names = list(names.columns)\n",
    "        most_occ_index = list(most_occ.values)\n",
    "        for index in most_occ.values:\n",
    "            list_o_names.append(all_names[index[0]])\n",
    "        with open(feature_path + '/Names_'+file+'.csv', 'w', newline='') as myfile:\n",
    "            myfile.write('geneName|geneID')\n",
    "            myfile.write('\\n')\n",
    "            for name in list_o_names:\n",
    "                myfile.write(name)\n",
    "                myfile.write(\"\\n\")"
   ]
  },
  {
   "cell_type": "code",
   "execution_count": null,
   "metadata": {},
   "outputs": [
    {
     "name": "stderr",
     "output_type": "stream",
     "text": [
      "  0%|          | 0/19 [00:00<?, ?it/s]"
     ]
    },
    {
     "name": "stdout",
     "output_type": "stream",
     "text": [
      "FOLD 3\n"
     ]
    },
    {
     "name": "stderr",
     "output_type": "stream",
     "text": [
      " 16%|█▌        | 3/19 [00:16<01:52,  7.06s/it]"
     ]
    }
   ],
   "source": [
    "fold = 3\n",
    "feature_path = \"/home/DL-based-Tumor-Classification/Datasets/Newest_case/1D/1Compare_reformed/sampled_fold_{}/pairwise/combination_3\".format(fold)\n",
    "files = os.listdir(feature_path)\n",
    "print('FOLD {}'.format(fold))\n",
    "for file in tqdm(files):\n",
    "#     print('working on {}'.format(file))\n",
    "    path = os.path.join(feature_path,file)\n",
    "    if file.endswith(\".ipynb_checkpoints\") or os.path.isdir(path):\n",
    "        continue\n",
    "    list_o_names = []\n",
    "    most_occ = pd.read_csv(feature_path+'/'+file)\n",
    "    # most_occ = most_occ[::-1]\n",
    "    names = pd.read_csv('/home/DL-based-Tumor-Classification/Datasets/Name_output/name_only.csv')\n",
    "    all_names = list(names.columns)\n",
    "    most_occ_index = list(most_occ.values)\n",
    "    for index in most_occ.values:\n",
    "        list_o_names.append(all_names[index[0]])\n",
    "    with open(feature_path + '/Names_'+file+'.csv', 'w', newline='') as myfile:\n",
    "        myfile.write('geneName|geneID')\n",
    "        myfile.write('\\n')\n",
    "        for name in list_o_names:\n",
    "            myfile.write(name)\n",
    "            myfile.write(\"\\n\")"
   ]
  },
  {
   "cell_type": "code",
   "execution_count": null,
   "metadata": {},
   "outputs": [],
   "source": [
    "path_name = '/home/DL-based-Tumor-Classification/Table_datasets'\n",
    "big_table = pd.read_csv(path_name+ '/big_data_test.csv')\n",
    "# big_table.to_csv(path_name + 'name_only.csv')\n",
    "feature_name = list(big_table)\n",
    "feature_name2 = feature_name[1:]\n",
    "print(feature_name2)\n",
    "with open(path_name+'/name_only.csv', 'w', newline='') as myfile:\n",
    "    \n",
    "     wr = csv.writer(myfile, quoting=csv.QUOTE_ALL)\n",
    "     wr.writerow(feature_name2)"
   ]
  },
  {
   "cell_type": "code",
   "execution_count": 6,
   "metadata": {},
   "outputs": [],
   "source": [
    "path = '/home/DL-based-Tumor-Classification/Table_datasets/3cases'"
   ]
  },
  {
   "cell_type": "code",
   "execution_count": null,
   "metadata": {},
   "outputs": [],
   "source": [
    "df= pd.read_csv(path +'/Adenocarcinoma_3rd.csv')\n",
    "df.loc[:,'labels'] = 5\n",
    "print(df)\n",
    "df.to_csv(path+ '/Adenocarcinoma_5.csv',index=False)"
   ]
  },
  {
   "cell_type": "code",
   "execution_count": 7,
   "metadata": {},
   "outputs": [],
   "source": [
    "df= pd.read_csv(path+ 'Arthritis_normal_kyongbuk.csv')\n",
    "df_t = df.T\n",
    "df_t.to_csv(path+'Arthritis_normal_kyongbuk_t.csv')"
   ]
  },
  {
   "cell_type": "code",
   "execution_count": null,
   "metadata": {},
   "outputs": [],
   "source": [
    "labels = pd.Series([])\n",
    "for i in range(len(df)):\n",
    "    labels[i]=2\n",
    "labels = labels.astype(int)\n",
    "df.loc[\"labels\"] = 2\n",
    "# df.replace(0,\"labels\",labels)\n",
    "print(df)\n",
    "# df.to_csv(path+ 'Arthritis_kyongbuk_labeled.csv',index=False)"
   ]
  },
  {
   "cell_type": "code",
   "execution_count": 8,
   "metadata": {},
   "outputs": [],
   "source": [
    "df = pd.read_csv(path+ 'Arthritis_kyongbuk_t.csv')\n",
    "labels = pd.Series([])\n",
    "for i in range(len(df)):\n",
    "    labels[i]=1\n",
    "labels = labels.astype(int)\n",
    "df.insert(0,\"labels\",labels)\n",
    "df.to_csv(path+ 'Arthritis_kyongbuk_labeled.csv',index=False)"
   ]
  },
  {
   "cell_type": "code",
   "execution_count": 9,
   "metadata": {},
   "outputs": [],
   "source": [
    "df = pd.read_csv(path+ 'Arthritis_normal_kyongbuk_t.csv')\n",
    "labels = pd.Series([])\n",
    "for i in range(len(df)):\n",
    "    labels[i]=2\n",
    "labels = labels.astype(int)\n",
    "df.insert(0,\"labels\",labels)\n",
    "df.to_csv(path+ 'Arthritis_normal_kyongbuk_labeled.csv',index=False)"
   ]
  },
  {
   "cell_type": "code",
   "execution_count": null,
   "metadata": {},
   "outputs": [],
   "source": [
    "true_columns = list(df1.columns.values)\n",
    "print(true_columns)"
   ]
  },
  {
   "cell_type": "markdown",
   "metadata": {},
   "source": [
    "Prepare Dataset into 1 table"
   ]
  },
  {
   "cell_type": "code",
   "execution_count": 10,
   "metadata": {},
   "outputs": [
    {
     "name": "stdout",
     "output_type": "stream",
     "text": [
      "Index(['labels', 'WASH7P', 'OR4F5', 'OR4F29', 'FAM41C', 'SAMD11', 'NOC2L',\n",
      "       'KLHL17', 'PLEKHN1', 'HES4',\n",
      "       ...\n",
      "       'COL6A1', 'COL6A2', 'FTCD', 'LSS', 'MCM3AP', 'C21orf58', 'PCNT',\n",
      "       'DIP2A', 'S100B', 'PRMT2'],\n",
      "      dtype='object', length=17425)\n"
     ]
    }
   ],
   "source": [
    "df1 = pd.read_csv(path+ '/Sorted_Cervical_3.csv')\n",
    "true_columns = list(df1.columns.values)\n",
    "# print(true_columns)\n",
    "\n",
    "df2_temp = pd.read_csv(path+ '/Sorted_Carcinoma_4.csv')\n",
    "df1.columns = true_columns\n",
    "df2_temp.columns = true_columns\n",
    "df2 = df2_temp.iloc[1:,:]\n",
    "df = df1.append(df2, ignore_index=True)\n",
    "\n",
    "# df2_temp = pd.read_csv(path+ '/Sorted_Cervical_3.csv')\n",
    "# df2_temp.columns = true_columns\n",
    "# df2 = df2_temp.iloc[1:,:]\n",
    "# df = df.append(df2, ignore_index=True)\n",
    "\n",
    "# df2_temp = pd.read_csv(path+ '/Sorted_Carcinoma_4.csv')\n",
    "# df2_temp.columns = true_columns\n",
    "# df2 = df2_temp.iloc[1:,:]\n",
    "# df = df.append(df2, ignore_index=True)\n",
    "\n",
    "# df2_temp = pd.read_csv(path+ '/Sorted_Adenocarcinoma_5.csv')\n",
    "# df2_temp.columns = true_columns\n",
    "# df2 = df2_temp.iloc[1:,:]\n",
    "# df = df.append(df2, ignore_index=True)\n",
    "\n",
    "\n",
    "# df2_temp = pd.read_csv(path+ '/Sorted_Esophageal_6.csv')\n",
    "# df2_temp.columns = true_columns\n",
    "# df2 = df2_temp.iloc[1:,:]\n",
    "# df = df.append(df2, ignore_index=True)\n",
    "# Sorted_Oral_1 Sorted_Other_2\n",
    "\n",
    "print(df.columns)\n",
    "df.to_csv(path+ '/Sorted/Cervical+EsophagealSCC.csv',index=False)"
   ]
  },
  {
   "cell_type": "code",
   "execution_count": null,
   "metadata": {},
   "outputs": [],
   "source": []
  },
  {
   "cell_type": "code",
   "execution_count": 47,
   "metadata": {},
   "outputs": [
    {
     "name": "stdout",
     "output_type": "stream",
     "text": [
      "0      1\n",
      "1      1\n",
      "2      1\n",
      "3      1\n",
      "4      1\n",
      "5      1\n",
      "6      1\n",
      "7      1\n",
      "8      1\n",
      "9      1\n",
      "10     1\n",
      "11     1\n",
      "12     1\n",
      "13     1\n",
      "14     1\n",
      "15     1\n",
      "16     1\n",
      "17     1\n",
      "18     1\n",
      "19     1\n",
      "20     1\n",
      "21     1\n",
      "22     1\n",
      "23     1\n",
      "24     1\n",
      "25     1\n",
      "26     1\n",
      "27     1\n",
      "28     1\n",
      "29     1\n",
      "      ..\n",
      "835    4\n",
      "836    4\n",
      "837    4\n",
      "838    4\n",
      "839    4\n",
      "840    4\n",
      "841    4\n",
      "842    4\n",
      "843    4\n",
      "844    4\n",
      "845    4\n",
      "846    4\n",
      "847    4\n",
      "848    4\n",
      "849    4\n",
      "850    4\n",
      "851    4\n",
      "852    4\n",
      "853    4\n",
      "854    4\n",
      "855    4\n",
      "856    4\n",
      "857    4\n",
      "858    4\n",
      "859    4\n",
      "860    4\n",
      "861    4\n",
      "862    4\n",
      "863    4\n",
      "864    4\n",
      "Name: labels, Length: 865, dtype: int64\n"
     ]
    }
   ],
   "source": [
    "print(df.loc[:,'labels'])\n",
    "# df = pd.read_csv(path+'cervicallabelfixed2.csv')\n",
    "# df1 = pd.read_csv(path+'orallabelfixed.csv')"
   ]
  },
  {
   "cell_type": "code",
   "execution_count": 19,
   "metadata": {},
   "outputs": [
    {
     "name": "stdout",
     "output_type": "stream",
     "text": [
      "0.281\n",
      "0.281\n"
     ]
    }
   ],
   "source": [
    "print(df.loc[137][1])\n",
    "# df.set_value(137,'0', 0.281)\n",
    "print(df.loc[137][1])"
   ]
  },
  {
   "cell_type": "code",
   "execution_count": 7,
   "metadata": {},
   "outputs": [
    {
     "name": "stdout",
     "output_type": "stream",
     "text": [
      "0.281\n",
      "0.281\n",
      "20532\n",
      "Index(['labels', '0', '1', '2', '3', '4', '5', '6', '7', '8',\n",
      "       ...\n",
      "       '20521', '20522', '20523', '20524', '20525', '20526', '20527', '20528',\n",
      "       '20529', '20530'],\n",
      "      dtype='object', length=20532)\n"
     ]
    }
   ],
   "source": [
    "print(df1.loc[293][1])\n",
    "# df1.set_value(293,'0',0.281)\n",
    "print(df1.loc[293][1])\n",
    "print(len(list(df1.columns.values)))\n",
    "print(df1.columns)"
   ]
  },
  {
   "cell_type": "code",
   "execution_count": 8,
   "metadata": {},
   "outputs": [],
   "source": [
    "# df.to_csv(path+'cervicallabelfixed2.csv',index=False)\n",
    "df1.to_csv(path+'orallabelfixed2.csv',index=False)"
   ]
  },
  {
   "cell_type": "code",
   "execution_count": 6,
   "metadata": {},
   "outputs": [],
   "source": [
    "df1.drop(df1.columns[len(df1.columns)-1], axis=1, inplace=True)"
   ]
  },
  {
   "cell_type": "code",
   "execution_count": 8,
   "metadata": {},
   "outputs": [],
   "source": [
    "df = pd.read_csv(path+'3rdappendedlabeled.csv')\n",
    "df_label = pd.read_csv(path+ 'otherlabeled2.csv')\n",
    "column_new = list(df_label.columns.values)\n",
    "df.columns = column_new\n",
    "# df1.columns = column_new\n",
    "df.to_csv(path+ '3rdappendedlabeled.csv',index=False)"
   ]
  },
  {
   "cell_type": "raw",
   "metadata": {},
   "source": [
    "df = pd.read_csv('/home/Summer/1st/oralnoindex.csv')\n",
    "for i in range(len(df)):\n",
    "    path1 = '/home/Summer/1st/oral_person/1col/oralline{}_not.csv'.format(i)\n",
    "    path2 = '/home/Summer/1st/oral_person/1row/oralline{}trans.csv'.format(i)\n",
    "    save = df.loc[i,:]\n",
    "    save.to_csv(path1,index=False)\n",
    "    a = zip(*csv.reader(open(path1, \"r\")))\n",
    "    csv.writer(open(path2, \"w\")).writerows(a)"
   ]
  },
  {
   "cell_type": "raw",
   "metadata": {},
   "source": [
    "df = pd.read_csv('/home/Summer/1st/othernoindex.csv')\n",
    "for i in range(len(df)):\n",
    "    path1 = '/home/Summer/1st/other_person/1col/otherline{}_not.csv'.format(i)\n",
    "    path2 = '/home/Summer/1st/other_person/1row/otherline{}trans.csv'.format(i)\n",
    "    save = df.loc[i,:]\n",
    "    save.to_csv(path1,index=False)\n",
    "    a = zip(*csv.reader(open(path1, \"r\")))\n",
    "    csv.writer(open(path2, \"w\")).writerows(a)"
   ]
  },
  {
   "cell_type": "raw",
   "metadata": {},
   "source": [
    "import matplotlib.pyplot as plot\n",
    "import numpy as np\n",
    "\n",
    "x = ['1','4','2','10','0','-1','-11','0']\n",
    "y = [1,10,-11,2,3,4,10,-1,5]\n",
    "y_ = np.array(y)\n",
    "x_ = np.array(x)\n",
    "# plot.plot(x_)\n",
    "# plot.show()\n",
    "print(x_)"
   ]
  },
  {
   "cell_type": "code",
   "execution_count": null,
   "metadata": {},
   "outputs": [],
   "source": [
    "table = pd.read_csv('/home/DL-based-Tumor-Classification/appendedlabelednamed.csv')"
   ]
  },
  {
   "cell_type": "code",
   "execution_count": null,
   "metadata": {},
   "outputs": [],
   "source": [
    "feature_name= list(table.columns.values)\n",
    "labeled = pd.read_csv('/home/DL-based-Tumor-Classification/2ndappendedlabeled.csv')\n",
    "# named = pd.read_csv('/home/DL-based-Tumor-Classification/appendedlabelednamed.csv')"
   ]
  },
  {
   "cell_type": "code",
   "execution_count": null,
   "metadata": {},
   "outputs": [],
   "source": [
    "# labeled.reindex(feature_name, axis ='columns')\n",
    "labeled.columns = feature_name\n",
    "# print(len(feature_name))\n",
    "# print(len(list(labeled.columns.values)))\n",
    "labeled.to_csv('/home/DL-based-Tumor-Classification/2ndappendedlabelednamed.csv', index=False)"
   ]
  },
  {
   "cell_type": "code",
   "execution_count": null,
   "metadata": {},
   "outputs": [],
   "source": [
    "print(named)"
   ]
  },
  {
   "cell_type": "code",
   "execution_count": 1,
   "metadata": {},
   "outputs": [
    {
     "name": "stdout",
     "output_type": "stream",
     "text": [
      "0\n",
      "1\n",
      "2\n",
      "3\n",
      "4\n",
      "5\n",
      "6\n",
      "7\n"
     ]
    }
   ],
   "source": [
    "for i in range(0,8):\n",
    "    print(i)"
   ]
  },
  {
   "cell_type": "code",
   "execution_count": null,
   "metadata": {},
   "outputs": [],
   "source": [
    "big_table = pd.read_csv(path+ '2ndappendedlabeled2.csv')\n",
    "feature_name = list(big_table)\n",
    "feature_name2 = feature_name[1:]\n",
    "print(feature_name2)"
   ]
  },
  {
   "cell_type": "code",
   "execution_count": null,
   "metadata": {},
   "outputs": [],
   "source": []
  }
 ],
 "metadata": {
  "kernelspec": {
   "display_name": "Python 3",
   "language": "python",
   "name": "python3"
  },
  "language_info": {
   "codemirror_mode": {
    "name": "ipython",
    "version": 3
   },
   "file_extension": ".py",
   "mimetype": "text/x-python",
   "name": "python",
   "nbconvert_exporter": "python",
   "pygments_lexer": "ipython3",
   "version": "3.5.2"
  }
 },
 "nbformat": 4,
 "nbformat_minor": 2
}
