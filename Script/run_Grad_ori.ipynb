{
 "cells": [
  {
   "cell_type": "code",
   "execution_count": 1,
   "metadata": {},
   "outputs": [
    {
     "name": "stdout",
     "output_type": "stream",
     "text": [
      "FOLD 9\tCASE: OSCC+Non-oral+EsophagealSCC+EsophagealAdenocarcinoma+Cervical\n",
      "Device: GeForce RTX 2080 Ti\n",
      "Weight loaded\n",
      "Images:\n",
      "93\n",
      "before:  torch.Size([93, 1, 1, 9604])\n",
      "after:  torch.Size([93, 1, 9604])\n",
      "Vanilla Backpropagation:\n",
      "Grad-CAM/Guided Backpropagation/Guided Grad-CAM:\n",
      "Done\n"
     ]
    }
   ],
   "source": [
    "%run Grad_ori.ipynb\n",
    "os.environ[\"CUDA_VISIBLE_DEVICES\"]=\"1\"\n",
    "target_layer = \"conv3\"\n",
    "topk = 6\n",
    "cuda = True\n",
    "img_size = 98\n",
    "kernel_set = 7\n",
    "final_feature = 150\n",
    "case_name = \"OSCC+Non-oral+EsophagealSCC+EsophagealAdenocarcinoma+Cervical\"\n",
    "default_path = \"/home/DL-based-Tumor-Classification/Datasets/Newest_case/1D_sorted/\" + case_name\n",
    "fold = [9]\n",
    "for i in fold:\n",
    "    print('FOLD {}\\tCASE: {}'.format(i, case_name))\n",
    "    \n",
    "    def_path = default_path + '/img_fold{}'.format(i)\n",
    "    \n",
    "    model_path = def_path + '/network_modified_multirelu.pth'\n",
    "    folder = def_path + \"/test/\"\n",
    "    \n",
    "    if not os.path.exists(def_path + '/Grads'):\n",
    "        os.makedirs(def_path + '/Grads')\n",
    "    output_dir = def_path + \"/Grads/\"\n",
    "    \n",
    "    image_files = os.listdir(folder)\n",
    "    for fichier in image_files[:]: # filelist[:] makes a copy of filelist.\n",
    "        if not(fichier.endswith(\".png\")):\n",
    "            image_files.remove(fichier)\n",
    "    for i, name in enumerate(image_files):\n",
    "        image_files[i] = folder + name \n",
    "    \n",
    "    demo1(image_files, target_layer, topk, output_dir, cuda, model_path, img_size)\n",
    "\n",
    "print(\"Done\")\n",
    "torch.cuda.empty_cache()"
   ]
  },
  {
   "cell_type": "code",
   "execution_count": null,
   "metadata": {},
   "outputs": [],
   "source": [
    "### %run Grad_ori.ipynb\n",
    "os.environ[\"CUDA_VISIBLE_DEVICES\"]=\"1\"\n",
    "target_layer = \"conv3\"\n",
    "topk = 6\n",
    "cuda = True\n",
    "img_size = 98\n",
    "kernel_set = 7\n",
    "final_feature = 150\n",
    "case_name = \"Oral+Carcinoma+Adenocarcinoma\"\n",
    "default_path = \"/home/DL-based-Tumor-Classification/Datasets/Newest_case/1D/\" + case_name\n",
    "fold = [9]\n",
    "for i in fold:\n",
    "    print('FOLD {}\\nCASE: {}'.format(i, case_name))\n",
    "    \n",
    "    def_path = default_path + '/img_fold{}'.format(i)\n",
    "    \n",
    "    model_path = def_path + '/network_modified_multirelu.pth'\n",
    "    folder = def_path + \"/test/\"\n",
    "    \n",
    "    if not os.path.exists(def_path + '/Grads'):\n",
    "        os.makedirs(def_path + '/Grads')\n",
    "    output_dir = def_path + \"/Grads/\"\n",
    "    \n",
    "    image_files = os.listdir(folder)\n",
    "    for fichier in image_files[:]: # filelist[:] makes a copy of filelist.\n",
    "        if not(fichier.endswith(\".png\")):\n",
    "            image_files.remove(fichier)\n",
    "    for i, name in enumerate(image_files):\n",
    "        image_files[i] = folder + name \n",
    "    \n",
    "    demo1(image_files, target_layer, topk, output_dir, cuda, model_path, img_size)\n",
    "    print(\"Done\")"
   ]
  },
  {
   "cell_type": "code",
   "execution_count": 1,
   "metadata": {},
   "outputs": [
    {
     "name": "stdout",
     "output_type": "stream",
     "text": [
      "FOLD 9\n",
      "CASE: Oral+Cervical\n",
      "Device: GeForce RTX 2080 Ti\n",
      "Weight loaded\n",
      "Images:\n",
      "58\n",
      "before:  torch.Size([58, 1, 1, 9604])\n",
      "after:  torch.Size([58, 1, 9604])\n",
      "Vanilla Backpropagation:\n",
      "Grad-CAM/Guided Backpropagation/Guided Grad-CAM:\n",
      "Done\n"
     ]
    }
   ],
   "source": [
    "%run Grad_ori.ipynb\n",
    "os.environ[\"CUDA_VISIBLE_DEVICES\"]=\"1\"\n",
    "target_layer = \"conv3\"\n",
    "topk = 6\n",
    "cuda = True\n",
    "img_size = 98\n",
    "kernel_set = 7\n",
    "final_feature = 150\n",
    "case_name = \"Oral+Cervical\"\n",
    "default_path = \"/home/DL-based-Tumor-Classification/Datasets/Newest_case/1D/\" + case_name\n",
    "fold = [9]\n",
    "for i in fold:\n",
    "    print('FOLD {}\\nCASE: {}'.format(i, case_name))\n",
    "    \n",
    "    def_path = default_path + '/img_fold{}'.format(i)\n",
    "    \n",
    "    model_path = def_path + '/network_modified_multirelu.pth'\n",
    "    folder = def_path + \"/test/\"\n",
    "    \n",
    "    if not os.path.exists(def_path + '/Grads'):\n",
    "        os.makedirs(def_path + '/Grads')\n",
    "    output_dir = def_path + \"/Grads/\"\n",
    "    \n",
    "    image_files = os.listdir(folder)\n",
    "    for fichier in image_files[:]: # filelist[:] makes a copy of filelist.\n",
    "        if not(fichier.endswith(\".png\")):\n",
    "            image_files.remove(fichier)\n",
    "    for i, name in enumerate(image_files):\n",
    "        image_files[i] = folder + name \n",
    "    \n",
    "    demo1(image_files, target_layer, topk, output_dir, cuda, model_path, img_size)\n",
    "    print(\"Done\")"
   ]
  },
  {
   "cell_type": "code",
   "execution_count": 1,
   "metadata": {},
   "outputs": [
    {
     "name": "stdout",
     "output_type": "stream",
     "text": [
      "FOLD 9\n",
      "CASE: Oral+Cervical+Carcinoma\n",
      "Device: GeForce RTX 2080 Ti\n",
      "Weight loaded\n",
      "Images:\n",
      "67\n",
      "before:  torch.Size([67, 1, 1, 9604])\n",
      "after:  torch.Size([67, 1, 9604])\n",
      "Vanilla Backpropagation:\n",
      "Grad-CAM/Guided Backpropagation/Guided Grad-CAM:\n",
      "Done\n"
     ]
    }
   ],
   "source": [
    "%run Grad_ori.ipynb\n",
    "os.environ[\"CUDA_VISIBLE_DEVICES\"]=\"1\"\n",
    "target_layer = \"conv3\"\n",
    "topk = 6\n",
    "cuda = True\n",
    "img_size = 98\n",
    "kernel_set = 7\n",
    "final_feature = 150\n",
    "case_name = \"Oral+Cervical+Carcinoma\"\n",
    "default_path = \"/home/DL-based-Tumor-Classification/Datasets/Newest_case/1D/\" + case_name\n",
    "fold = [9]\n",
    "for i in fold:\n",
    "    print('FOLD {}\\nCASE: {}'.format(i, case_name))\n",
    "    \n",
    "    def_path = default_path + '/img_fold{}'.format(i)\n",
    "    \n",
    "    model_path = def_path + '/network_modified_multirelu.pth'\n",
    "    folder = def_path + \"/test/\"\n",
    "    \n",
    "    if not os.path.exists(def_path + '/Grads'):\n",
    "        os.makedirs(def_path + '/Grads')\n",
    "    output_dir = def_path + \"/Grads/\"\n",
    "    \n",
    "    image_files = os.listdir(folder)\n",
    "    for fichier in image_files[:]: # filelist[:] makes a copy of filelist.\n",
    "        if not(fichier.endswith(\".png\")):\n",
    "            image_files.remove(fichier)\n",
    "    for i, name in enumerate(image_files):\n",
    "        image_files[i] = folder + name \n",
    "    \n",
    "    demo1(image_files, target_layer, topk, output_dir, cuda, model_path, img_size)\n",
    "    print(\"Done\")"
   ]
  },
  {
   "cell_type": "code",
   "execution_count": 1,
   "metadata": {},
   "outputs": [
    {
     "name": "stdout",
     "output_type": "stream",
     "text": [
      "FOLD 9\n",
      "CASE: Oral+Esophageal+Cervical\n",
      "Device: GeForce RTX 2080 Ti\n",
      "Weight loaded\n",
      "Images:\n",
      "76\n",
      "before:  torch.Size([76, 1, 1, 9604])\n",
      "after:  torch.Size([76, 1, 9604])\n",
      "Vanilla Backpropagation:\n",
      "Grad-CAM/Guided Backpropagation/Guided Grad-CAM:\n",
      "Done\n"
     ]
    }
   ],
   "source": [
    "%run Grad_ori.ipynb\n",
    "os.environ[\"CUDA_VISIBLE_DEVICES\"]=\"1\"\n",
    "target_layer = \"conv3\"\n",
    "topk = 6\n",
    "cuda = True\n",
    "img_size = 98\n",
    "kernel_set = 7\n",
    "final_feature = 150\n",
    "case_name = \"Oral+Esophageal+Cervical\"\n",
    "default_path = \"/home/DL-based-Tumor-Classification/Datasets/Newest_case/1D/\" + case_name\n",
    "fold = [9]\n",
    "for i in fold:\n",
    "    print('FOLD {}\\nCASE: {}'.format(i, case_name))\n",
    "    \n",
    "    def_path = default_path + '/img_fold{}'.format(i)\n",
    "    \n",
    "    model_path = def_path + '/network_modified_multirelu.pth'\n",
    "    folder = def_path + \"/test/\"\n",
    "    \n",
    "    if not os.path.exists(def_path + '/Grads'):\n",
    "        os.makedirs(def_path + '/Grads')\n",
    "    output_dir = def_path + \"/Grads/\"\n",
    "    \n",
    "    image_files = os.listdir(folder)\n",
    "    for fichier in image_files[:]: # filelist[:] makes a copy of filelist.\n",
    "        if not(fichier.endswith(\".png\")):\n",
    "            image_files.remove(fichier)\n",
    "    for i, name in enumerate(image_files):\n",
    "        image_files[i] = folder + name \n",
    "    \n",
    "    demo1(image_files, target_layer, topk, output_dir, cuda, model_path, img_size)\n",
    "    print(\"Done\")"
   ]
  },
  {
   "cell_type": "code",
   "execution_count": 1,
   "metadata": {},
   "outputs": [
    {
     "name": "stdout",
     "output_type": "stream",
     "text": [
      "FOLD 9\n",
      "CASE: Oral+Other\n",
      "Device: GeForce RTX 2080 Ti\n",
      "Weight loaded\n",
      "Images:\n",
      "51\n",
      "before:  torch.Size([51, 1, 1, 9604])\n",
      "after:  torch.Size([51, 1, 9604])\n",
      "Vanilla Backpropagation:\n",
      "Grad-CAM/Guided Backpropagation/Guided Grad-CAM:\n"
     ]
    },
    {
     "name": "stderr",
     "output_type": "stream",
     "text": [
      "/usr/local/lib/python3.5/dist-packages/numpy/core/_methods.py:29: RuntimeWarning: invalid value encountered in reduce\n",
      "  return umr_minimum(a, axis, None, out, keepdims)\n",
      "/usr/local/lib/python3.5/dist-packages/numpy/core/_methods.py:26: RuntimeWarning: invalid value encountered in reduce\n",
      "  return umr_maximum(a, axis, None, out, keepdims)\n"
     ]
    },
    {
     "name": "stdout",
     "output_type": "stream",
     "text": [
      "Done\n"
     ]
    }
   ],
   "source": [
    "%run Grad_ori.ipynb\n",
    "os.environ[\"CUDA_VISIBLE_DEVICES\"]=\"1\"\n",
    "target_layer = \"conv3\"\n",
    "topk = 6\n",
    "cuda = True\n",
    "img_size = 98\n",
    "kernel_set = 7\n",
    "final_feature = 150\n",
    "case_name = \"Oral+Other\"\n",
    "default_path = \"/home/DL-based-Tumor-Classification/Datasets/Newest_case/1D/\" + case_name\n",
    "fold = [9]\n",
    "for i in fold:\n",
    "    print('FOLD {}\\nCASE: {}'.format(i, case_name))\n",
    "    \n",
    "    def_path = default_path + '/img_fold{}'.format(i)\n",
    "    \n",
    "    model_path = def_path + '/network_modified_multirelu.pth'\n",
    "    folder = def_path + \"/test/\"\n",
    "    \n",
    "    if not os.path.exists(def_path + '/Grads'):\n",
    "        os.makedirs(def_path + '/Grads')\n",
    "    output_dir = def_path + \"/Grads/\"\n",
    "    \n",
    "    image_files = os.listdir(folder)\n",
    "    for fichier in image_files[:]: # filelist[:] makes a copy of filelist.\n",
    "        if not(fichier.endswith(\".png\")):\n",
    "            image_files.remove(fichier)\n",
    "    for i, name in enumerate(image_files):\n",
    "        image_files[i] = folder + name \n",
    "    \n",
    "    demo1(image_files, target_layer, topk, output_dir, cuda, model_path, img_size)\n",
    "    print(\"Done\")"
   ]
  },
  {
   "cell_type": "code",
   "execution_count": 1,
   "metadata": {},
   "outputs": [
    {
     "name": "stdout",
     "output_type": "stream",
     "text": [
      "FOLD 9\n",
      "CASE: Oral+Other+Carcinoma+Cervical\n",
      "Device: GeForce RTX 2080 Ti\n",
      "Weight loaded\n",
      "Images:\n",
      "85\n",
      "before:  torch.Size([85, 1, 1, 9604])\n",
      "after:  torch.Size([85, 1, 9604])\n",
      "Vanilla Backpropagation:\n",
      "Grad-CAM/Guided Backpropagation/Guided Grad-CAM:\n",
      "Done\n"
     ]
    }
   ],
   "source": [
    "%run Grad_ori.ipynb\n",
    "os.environ[\"CUDA_VISIBLE_DEVICES\"]=\"1\"\n",
    "target_layer = \"conv3\"\n",
    "topk = 6\n",
    "cuda = True\n",
    "img_size = 98\n",
    "kernel_set = 7\n",
    "final_feature = 150\n",
    "case_name = \"Oral+Other+Carcinoma+Cervical\"\n",
    "default_path = \"/home/DL-based-Tumor-Classification/Datasets/Newest_case/1D/\" + case_name\n",
    "fold = [9]\n",
    "for i in fold:\n",
    "    print('FOLD {}\\nCASE: {}'.format(i, case_name))\n",
    "    \n",
    "    def_path = default_path + '/img_fold{}'.format(i)\n",
    "    \n",
    "    model_path = def_path + '/network_modified_multirelu.pth'\n",
    "    folder = def_path + \"/test/\"\n",
    "    \n",
    "    if not os.path.exists(def_path + '/Grads'):\n",
    "        os.makedirs(def_path + '/Grads')\n",
    "    output_dir = def_path + \"/Grads/\"\n",
    "    \n",
    "    image_files = os.listdir(folder)\n",
    "    for fichier in image_files[:]: # filelist[:] makes a copy of filelist.\n",
    "        if not(fichier.endswith(\".png\")):\n",
    "            image_files.remove(fichier)\n",
    "    for i, name in enumerate(image_files):\n",
    "        image_files[i] = folder + name \n",
    "    \n",
    "    demo1(image_files, target_layer, topk, output_dir, cuda, model_path, img_size)\n",
    "    print(\"Done\")"
   ]
  },
  {
   "cell_type": "code",
   "execution_count": 1,
   "metadata": {},
   "outputs": [
    {
     "name": "stdout",
     "output_type": "stream",
     "text": [
      "FOLD 9\n",
      "CASE: Oral+Other+Cervical+Carcinoma+Adenocarcinoma\n",
      "Device: GeForce RTX 2080 Ti\n",
      "Weight loaded\n",
      "Images:\n",
      "93\n",
      "before:  torch.Size([93, 1, 1, 9604])\n",
      "after:  torch.Size([93, 1, 9604])\n",
      "Vanilla Backpropagation:\n",
      "Grad-CAM/Guided Backpropagation/Guided Grad-CAM:\n",
      "Done\n"
     ]
    }
   ],
   "source": [
    "%run Grad_ori.ipynb\n",
    "os.environ[\"CUDA_VISIBLE_DEVICES\"]=\"1\"\n",
    "target_layer = \"conv3\"\n",
    "topk = 6\n",
    "cuda = True\n",
    "img_size = 98\n",
    "kernel_set = 7\n",
    "final_feature = 150\n",
    "case_name = \"Oral+Other+Cervical+Carcinoma+Adenocarcinoma\"\n",
    "default_path = \"/home/DL-based-Tumor-Classification/Datasets/Newest_case/1D/\" + case_name\n",
    "fold = [9]\n",
    "for i in fold:\n",
    "    print('FOLD {}\\nCASE: {}'.format(i, case_name))\n",
    "    \n",
    "    def_path = default_path + '/img_fold{}'.format(i)\n",
    "    \n",
    "    model_path = def_path + '/network_modified_multirelu.pth'\n",
    "    folder = def_path + \"/test/\"\n",
    "    \n",
    "    if not os.path.exists(def_path + '/Grads'):\n",
    "        os.makedirs(def_path + '/Grads')\n",
    "    output_dir = def_path + \"/Grads/\"\n",
    "    \n",
    "    image_files = os.listdir(folder)\n",
    "    for fichier in image_files[:]: # filelist[:] makes a copy of filelist.\n",
    "        if not(fichier.endswith(\".png\")):\n",
    "            image_files.remove(fichier)\n",
    "    for i, name in enumerate(image_files):\n",
    "        image_files[i] = folder + name \n",
    "    \n",
    "    demo1(image_files, target_layer, topk, output_dir, cuda, model_path, img_size)\n",
    "    print(\"Done\")"
   ]
  },
  {
   "cell_type": "code",
   "execution_count": null,
   "metadata": {},
   "outputs": [],
   "source": [
    "kernel_set = 3\n",
    "demo2(image_files,output_dir,cuda, trained_loc)"
   ]
  },
  {
   "cell_type": "code",
   "execution_count": 3,
   "metadata": {},
   "outputs": [
    {
     "name": "stdout",
     "output_type": "stream",
     "text": [
      "(1, 2, 3)\n"
     ]
    },
    {
     "data": {
      "text/plain": [
       "(2, 1, 3)"
      ]
     },
     "execution_count": 3,
     "metadata": {},
     "output_type": "execute_result"
    }
   ],
   "source": []
  },
  {
   "cell_type": "code",
   "execution_count": null,
   "metadata": {},
   "outputs": [],
   "source": []
  },
  {
   "cell_type": "code",
   "execution_count": 2,
   "metadata": {},
   "outputs": [
    {
     "name": "stdout",
     "output_type": "stream",
     "text": [
      "FOLD 1\n",
      "Device: GeForce RTX 2080 Ti\n",
      "Weight loaded\n",
      "Images:\n",
      "59\n",
      "before:  torch.Size([59, 1, 1, 9216])\n",
      "after:  torch.Size([59, 1, 9216])\n",
      "Vanilla Backpropagation:\n",
      "Grad-CAM/Guided Backpropagation/Guided Grad-CAM:\n",
      "FOLD 2\n",
      "Device: GeForce RTX 2080 Ti\n",
      "Weight loaded\n",
      "Images:\n",
      "59\n",
      "before:  torch.Size([59, 1, 1, 9216])\n",
      "after:  torch.Size([59, 1, 9216])\n",
      "Vanilla Backpropagation:\n",
      "Grad-CAM/Guided Backpropagation/Guided Grad-CAM:\n",
      "Done\n"
     ]
    }
   ],
   "source": [
    "target_layer = \"conv3\"\n",
    "topk = 6\n",
    "cuda = True\n",
    "kernel_set = 3\n",
    "default_path = \"/home/DL-based-Tumor-Classification/Datasets/Newest_case/1D/Oral+Cervical/\"\n",
    "for i in range(3,5):\n",
    "    print('FOLD {}'.format(i))\n",
    "    \n",
    "    def_path = default_path + '/img_fold{}'.format(i)\n",
    "    \n",
    "    model_path = def_path + '/network_modified_multirelu.pth'\n",
    "    folder = def_path + \"/test/\"\n",
    "    \n",
    "    if not os.path.exists(def_path + '/Grads'):\n",
    "        os.makedirs(def_path + '/Grads')\n",
    "    output_dir = def_path + \"/Grads/\"\n",
    "    \n",
    "    image_files = os.listdir(folder)\n",
    "    for fichier in image_files[:]: # filelist[:] makes a copy of filelist.\n",
    "        if not(fichier.endswith(\".png\")):\n",
    "            image_files.remove(fichier)\n",
    "    for i, name in enumerate(image_files):\n",
    "        image_files[i] = folder + name \n",
    "    \n",
    "    demo1(image_files, target_layer, topk, output_dir, cuda, model_path, img_size=96)\n",
    "print(\"Done\")"
   ]
  }
 ],
 "metadata": {
  "kernelspec": {
   "display_name": "Python 3",
   "language": "python",
   "name": "python3"
  },
  "language_info": {
   "codemirror_mode": {
    "name": "ipython",
    "version": 3
   },
   "file_extension": ".py",
   "mimetype": "text/x-python",
   "name": "python",
   "nbconvert_exporter": "python",
   "pygments_lexer": "ipython3",
   "version": "3.5.2"
  }
 },
 "nbformat": 4,
 "nbformat_minor": 2
}
