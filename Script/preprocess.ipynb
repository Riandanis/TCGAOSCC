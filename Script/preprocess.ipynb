{
 "cells": [
  {
   "cell_type": "code",
   "execution_count": 1,
   "metadata": {},
   "outputs": [
    {
     "name": "stderr",
     "output_type": "stream",
     "text": [
      "/usr/local/lib/python3.5/dist-packages/h5py/__init__.py:36: FutureWarning: Conversion of the second argument of issubdtype from `float` to `np.floating` is deprecated. In future, it will be treated as `np.float64 == np.dtype(float).type`.\n",
      "  from ._conv import register_converters as _register_converters\n",
      "Using TensorFlow backend.\n"
     ]
    }
   ],
   "source": [
    "#!/usr/bin/env python\n",
    "import os\n",
    "import pandas as pd\n",
    "import numpy as np\n",
    "from sklearn.model_selection import StratifiedKFold\n",
    "from imblearn.over_sampling import SMOTE, ADASYN\n",
    "from skimage import io\n",
    "from sklearn.feature_selection import VarianceThreshold"
   ]
  },
  {
   "cell_type": "code",
   "execution_count": 2,
   "metadata": {},
   "outputs": [],
   "source": [
    "feature_name_file = 'Feature_name_'+case_name+'.csv'\n",
    "table = pd.read_csv( case_path +case_name+'.csv')\n",
    "preprocess_file = preprocessed_path\n",
    "preprocessed_file_path = preprocess_file+ '/' +case_name\n",
    "\n",
    "if not os.path.exists(preprocessed_file_path):\n",
    "    os.makedirs(preprocessed_file_path)\n",
    "\n",
    "annote = '/home/DL-based-Tumor-Classification/04072018_annotation.csv'\n",
    "\n",
    "folds = 10\n",
    "im_size = 98"
   ]
  },
  {
   "cell_type": "code",
   "execution_count": 3,
   "metadata": {},
   "outputs": [],
   "source": [
    "def embedding_2d(features_train, features_test, fold_idx, preprocessed_file_path, labels_train, labels_test):\n",
    "    print('embedding to 2D image, fold:', fold_idx)\n",
    "    features_padded = np.zeros(im_size*im_size)\n",
    "    subfolder_path = os.path.join(preprocessed_file_path + '/img_fold' + str(fold_idx))\n",
    "    if not os.path.exists(subfolder_path):\n",
    "        os.makedirs(subfolder_path)\n",
    "    subfolder_train_path = subfolder_path + '/train'\n",
    "    if not os.path.exists(subfolder_train_path):\n",
    "        os.makedirs(subfolder_train_path)\n",
    "    subfolder_test_path = subfolder_path + '/test'\n",
    "    if not os.path.exists(subfolder_test_path):\n",
    "        os.makedirs(subfolder_test_path)\n",
    "    pd.DataFrame(labels_train).to_csv(os.path.join(subfolder_train_path, 'labels_train.csv'))\n",
    "    pd.DataFrame(labels_test).to_csv(os.path.join(subfolder_test_path, 'labels_test.csv'))\n",
    "    for i in range(features_train.shape[0]):\n",
    "        features_padded[range(features_train.shape[1])] = (features_train[i, :]- min(features_train[i,:]))/max(features_train[i, :]) *255\n",
    "        features_train_tmp = features_padded.reshape(im_size, im_size)\n",
    "        file_path = subfolder_train_path + '/'+str(i) + '.png'\n",
    "        io.imsave(file_path, np.uint8(features_train_tmp))\n",
    "    for j in range(features_test.shape[0]):\n",
    "        features_padded[range(features_test.shape[1])] = (features_test[j, :]- min(features_train[i,:]))/max(features_test[j, :]) *255\n",
    "        features_test_tmp = features_padded.reshape(im_size, im_size)\n",
    "        file_path = subfolder_test_path + '/' + str(j) + '.png'\n",
    "        io.imsave(file_path, np.uint8(features_test_tmp))"
   ]
  },
  {
   "cell_type": "code",
   "execution_count": 4,
   "metadata": {},
   "outputs": [],
   "source": [
    "def embedding_1d(features_train, features_test, fold_idx, preprocessed_file_path, labels_train, labels_test):\n",
    "    print('embedding to 1D image, fold:', fold_idx)\n",
    "    features_padded = np.zeros(im_size*im_size)\n",
    "    subfolder_path = os.path.join(preprocessed_file_path + '/img_fold' + str(fold_idx))\n",
    "    if not os.path.exists(subfolder_path):\n",
    "        os.makedirs(subfolder_path)\n",
    "    subfolder_train_path = subfolder_path + '/train'\n",
    "    if not os.path.exists(subfolder_train_path):\n",
    "        os.makedirs(subfolder_train_path)\n",
    "    subfolder_test_path = subfolder_path + '/test'\n",
    "    if not os.path.exists(subfolder_test_path):\n",
    "        os.makedirs(subfolder_test_path)\n",
    "    pd.DataFrame(labels_train).to_csv(os.path.join(subfolder_train_path, 'labels_train.csv'))\n",
    "    pd.DataFrame(labels_test).to_csv(os.path.join(subfolder_test_path, 'labels_test.csv'))\n",
    "    for i in range(features_train.shape[0]):\n",
    "        features_padded[range(features_train.shape[1])] = (features_train[i, :] - min(features_train[i,:]))/max(features_train[i, :]) *255\n",
    "        features_train_tmp = features_padded.reshape(1, im_size*im_size)\n",
    "        file_path = subfolder_train_path + '/'+str(i) + '.png'\n",
    "        io.imsave(file_path, np.uint8(features_train_tmp))\n",
    "    for j in range(features_test.shape[0]):\n",
    "        features_padded[range(features_test.shape[1])] = (features_test[j, :]- min(features_train[i,:]))/max(features_test[j, :]) *255\n",
    "        features_test_tmp = features_padded.reshape(1, im_size*im_size)\n",
    "        file_path = subfolder_test_path + '/' + str(j) + '.png'\n",
    "        io.imsave(file_path, np.uint8(features_test_tmp))"
   ]
  },
  {
   "cell_type": "code",
   "execution_count": 5,
   "metadata": {},
   "outputs": [],
   "source": [
    "def feature_selection(big_table,preprocessed_file_path):\n",
    "    feature_name = list(big_table)\n",
    "    feature_name_o = list(big_table.iloc[0,1:])\n",
    "    labels = np.array(big_table.iloc[1:, 0])\n",
    "#     annotation = pd.read_csv.loc[:, \"GeneID\"])\n",
    "#     gene_id_chr_annotation = list(av(annotation_path, dtype=str)\n",
    "#     gene_id_annotation = list(annotationnotation.loc[:, \"chromosome\"])\n",
    "    gene_id_original = []\n",
    "    idx1 = []\n",
    "    idx1_annotation = []\n",
    "    k = 0\n",
    "    for name in feature_name_o:\n",
    "#         symbol, gene_id = name.split(\"|\", 1)\n",
    "        gene_id_original.append(name)\n",
    "#         if gene_id in gene_id_annotation:\n",
    "        idx1.append(k)\n",
    "#             idx1_annotation.append(gene_id_annotation.index(gene_id))\n",
    "#         print('compare with annotation, progress :', k / len(feature_name))\n",
    "        k = k + 1\n",
    "    features_raw = np.array(big_table.iloc[1:, 1:], dtype=float)\n",
    "    print(\"feature_raw shape : \", features_raw.shape)\n",
    "    features = np.log2(1.0 + features_raw)\n",
    "    features[np.where(features <= 1)] = 0\n",
    "    # values corresponding to existing genes (1st filtering)\n",
    "    features_filtered = np.array(list(features[:, idx1_tmp] for idx1_tmp in idx1)).transpose()\n",
    "    print(\"features_filtered shape : \", features_filtered.shape)\n",
    "    feature_name_filtered = list(feature_name[i] for i in idx1)\n",
    "#     gene_id_chr = list(gene_id_chr_annotation[i] for i in idx1_annotation)\n",
    "    # sort the features based on the chr number\n",
    "#     idx_sorted = sort_feature(gene_id_chr)\n",
    "    feature_name_sorted = list(feature_name_filtered[j] for j in idx1)\n",
    "    features_sorted = np.array(list(features_filtered[:, i] for i in idx1)).transpose()\n",
    "    print(\"features_sorted shape : \" , features_sorted.shape)\n",
    "#     print('features have been sorted based on chromosome')\n",
    "    selector = VarianceThreshold(threshold=1)\n",
    "    selector.fit(features_filtered)\n",
    "    idx2 = selector.get_support()\n",
    "    idx2_num = selector.get_support(indices=True)\n",
    "    # numpy is different from list\n",
    "    features = features_sorted[:, idx2]\n",
    "    print(\"final features shape: \", features.shape)\n",
    "    feature_name_final = list(feature_name_sorted[i] for i in idx2_num)\n",
    "    feature_name_path = os.path.join(preprocessed_file_path, feature_name_file)\n",
    "    pd.DataFrame(feature_name_final).to_csv(feature_name_path)\n",
    "    print('features are selected, the selected gene name are saved at', feature_name_path)\n",
    "    return features, labels\n",
    "   \n",
    "def sort_feature(chr_filtered):\n",
    "    idx_list = list(range(len(chr_filtered)))\n",
    "    big_list_chr = zip(idx_list, chr_filtered)  # combine a list of indices and a list of chromosomes\n",
    "    tmp = sorted(big_list_chr, key=lambda x: x[1])  # sort based on the chromosome\n",
    "    idx, _ = zip(*tmp)\n",
    "    return idx\n",
    "\n",
    "\n",
    "def kfold_split(big_table, folds, preprocessed_file_path):\n",
    "    features, labels = feature_selection(big_table, preprocessed_file_path)\n",
    "    print('features have been read')\n",
    "    skf = StratifiedKFold(n_splits=folds, shuffle=True)\n",
    "    index_list = list(skf.split(features, labels))\n",
    "    return features, labels, index_list\n",
    "\n",
    "def over_sampling(training_data, training_label):\n",
    "    \"\"\"\n",
    "    This function is used only for classification\n",
    "    :param training_data:\n",
    "    :param training_label:\n",
    "    :return: The training data and training label after oversampling using SMOTE algorithm\n",
    "    \"\"\"\n",
    "    training_data_resampled, training_label_resampled = SMOTE(ratio='minority', random_state=42, kind='svm', n_jobs=12)\\\n",
    "        .fit_sample(training_data, training_label)\n",
    "    return training_data_resampled, training_label_resampled"
   ]
  },
  {
   "cell_type": "code",
   "execution_count": 6,
   "metadata": {},
   "outputs": [
    {
     "name": "stdout",
     "output_type": "stream",
     "text": [
      "feature_raw shape :  (182, 20531)\n",
      "features_filtered shape :  (182, 20531)\n",
      "features_sorted shape :  (182, 20531)\n",
      "final features shape:  (182, 8969)\n",
      "features are selected, the selected gene name are saved at /home/DL-based-Tumor-Classification/Datasets/Newest_case/2D_reform/Feature_name_Carcinoma+Adenocarcinoma.csv\n",
      "features have been read\n"
     ]
    }
   ],
   "source": []
  },
  {
   "cell_type": "code",
   "execution_count": 7,
   "metadata": {},
   "outputs": [
    {
     "name": "stdout",
     "output_type": "stream",
     "text": [
      "embedding to 2D image, fold: 0\n",
      "embedding to 2D image, fold: 1\n",
      "embedding to 2D image, fold: 2\n",
      "embedding to 2D image, fold: 3\n",
      "embedding to 2D image, fold: 4\n",
      "embedding to 2D image, fold: 5\n",
      "embedding to 2D image, fold: 6\n",
      "embedding to 2D image, fold: 7\n",
      "embedding to 2D image, fold: 8\n",
      "embedding to 2D image, fold: 9\n",
      "done\n"
     ]
    }
   ],
   "source": []
  },
  {
   "cell_type": "code",
   "execution_count": null,
   "metadata": {},
   "outputs": [],
   "source": []
  },
  {
   "cell_type": "code",
   "execution_count": null,
   "metadata": {},
   "outputs": [],
   "source": []
  }
 ],
 "metadata": {
  "kernelspec": {
   "display_name": "Python 3",
   "language": "python",
   "name": "python3"
  },
  "language_info": {
   "codemirror_mode": {
    "name": "ipython",
    "version": 3
   },
   "file_extension": ".py",
   "mimetype": "text/x-python",
   "name": "python",
   "nbconvert_exporter": "python",
   "pygments_lexer": "ipython3",
   "version": "3.5.2"
  }
 },
 "nbformat": 4,
 "nbformat_minor": 2
}
